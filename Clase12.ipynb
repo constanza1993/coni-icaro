{
  "nbformat": 4,
  "nbformat_minor": 0,
  "metadata": {
    "colab": {
      "name": "Clase12.ipynb",
      "provenance": [],
      "authorship_tag": "ABX9TyMlQRlPSMwKDxASbZU+PHWu",
      "include_colab_link": true
    },
    "kernelspec": {
      "name": "python3",
      "display_name": "Python 3"
    },
    "language_info": {
      "name": "python"
    }
  },
  "cells": [
    {
      "cell_type": "markdown",
      "metadata": {
        "id": "view-in-github",
        "colab_type": "text"
      },
      "source": [
        "<a href=\"https://colab.research.google.com/github/constanza1993/coni-icaro/blob/master/Clase12.ipynb\" target=\"_parent\"><img src=\"https://colab.research.google.com/assets/colab-badge.svg\" alt=\"Open In Colab\"/></a>"
      ]
    },
    {
      "cell_type": "code",
      "metadata": {
        "id": "r_wrCSim6-ot"
      },
      "source": [
        "import requests"
      ],
      "execution_count": 1,
      "outputs": []
    },
    {
      "cell_type": "code",
      "metadata": {
        "colab": {
          "base_uri": "https://localhost:8080/"
        },
        "id": "4kAsjaAtBAWl",
        "outputId": "f1bf6462-7d00-4959-cce5-af79ba8bc3f3"
      },
      "source": [
        "url = 'https://raw.githubusercontent.com/MohaRios/datos_para_ejercicios/master/ejemplo_wordcount.txt'\n",
        "req = requests.get(url)\n",
        "frase = req.content.decode('ascii')\n",
        "print(frase)"
      ],
      "execution_count": 2,
      "outputs": [
        {
          "output_type": "stream",
          "text": [
            "And then it started like a guilty thing\n",
            "Upon a fearful summons. I have heard,\n",
            "The cock, that is the trumpet to the morn,\n",
            "Doth with his lofty and shrill-sounding throat\n",
            "Awake the god of day; and, at his warning,\n",
            "Whether in sea or fire, in earth or air,\n",
            "The extravagant and erring spirit hies\n",
            "To his confine: and of the truth herein\n",
            "This present object made probation.\n",
            "It faded on the crowing of the cock.\n",
            "Some say that ever 'gainst that season comes\n",
            "Wherein our Saviour's birth is celebrated,\n",
            "The bird of dawning singeth all night long:\n",
            "And then, they say, no spirit dares stir abroad;\n",
            "The nights are wholesome; then no planets strike,\n",
            "No fairy takes, nor witch hath power to charm,\n",
            "So hallow'd and so gracious is the time.\n",
            "So have I heard and do in part believe it.\n",
            "But, look, the morn, in russet mantle clad,\n",
            "Walks o'er the dew of yon high eastward hill:\n",
            "Break we our watch up; and by my advice,\n",
            "Let us impart what we have seen to-night\n",
            "Unto young Hamlet; for, upon my life,\n",
            "This spirit, dumb to us, will speak to him.\n",
            "Do you consent we shall acquaint him with it,\n",
            "As needful in our loves, fitting our duty?\n",
            "Let's do't, I pray; and I this morning know\n",
            "Where we shall find him most conveniently.\n"
          ],
          "name": "stdout"
        }
      ]
    },
    {
      "cell_type": "code",
      "metadata": {
        "id": "yR3ffxvbBwqw"
      },
      "source": [
        "#Import de biblioteca regex\n",
        "import re\n",
        "#Creo función para borrar caracteres especiales de una \"palabra\" \n",
        "#Uso lower para no diferenciar palabras en mayúscula y minúscula\n",
        "def delete_special_characters(word):\n",
        "    return re.sub(r\"[^a-zA-Z']+\", '', word).lower()"
      ],
      "execution_count": 3,
      "outputs": []
    },
    {
      "cell_type": "code",
      "metadata": {
        "colab": {
          "base_uri": "https://localhost:8080/"
        },
        "id": "GtfAU3yPDytx",
        "outputId": "ae6f0f96-acc3-4fad-e1b5-3f3788f7c06f"
      },
      "source": [
        "def word_count(frase):\n",
        "    counts = dict()\n",
        "    #Saco los caracteres especiales por 'new line'\n",
        "    frase = frase.replace(\"\\n\", \" \")\n",
        "    #Elimino los caracteres especiales y genera la lista de palabras\n",
        "    words = map(delete_special_characters, frase.split(' '))\n",
        "    #Armo el diccionario con cada palabra y su frecuencia\n",
        "    for word in words:\n",
        "        if word in counts:\n",
        "            counts[word] += 1\n",
        "        else:\n",
        "            counts[word] = 1\n",
        "    return counts\n",
        "print( word_count(frase) )"
      ],
      "execution_count": 4,
      "outputs": [
        {
          "output_type": "stream",
          "text": [
            "{'and': 10, 'then': 3, 'it': 4, 'started': 1, 'like': 1, 'a': 2, 'guilty': 1, 'thing': 1, 'upon': 2, 'fearful': 1, 'summons': 1, 'i': 4, 'have': 3, 'heard': 2, 'the': 13, 'cock': 2, 'that': 3, 'is': 3, 'trumpet': 1, 'to': 5, 'morn': 2, 'doth': 1, 'with': 2, 'his': 3, 'lofty': 1, 'shrillsounding': 1, 'throat': 1, 'awake': 1, 'god': 1, 'of': 5, 'day': 1, 'at': 1, 'warning': 1, 'whether': 1, 'in': 5, 'sea': 1, 'or': 2, 'fire': 1, 'earth': 1, 'air': 1, 'extravagant': 1, 'erring': 1, 'spirit': 3, 'hies': 1, 'confine': 1, 'truth': 1, 'herein': 1, 'this': 3, 'present': 1, 'object': 1, 'made': 1, 'probation': 1, 'faded': 1, 'on': 1, 'crowing': 1, 'some': 1, 'say': 2, 'ever': 1, \"'gainst\": 1, 'season': 1, 'comes': 1, 'wherein': 1, 'our': 4, \"saviour's\": 1, 'birth': 1, 'celebrated': 1, 'bird': 1, 'dawning': 1, 'singeth': 1, 'all': 1, 'night': 1, 'long': 1, 'they': 1, 'no': 3, 'dares': 1, 'stir': 1, 'abroad': 1, 'nights': 1, 'are': 1, 'wholesome': 1, 'planets': 1, 'strike': 1, 'fairy': 1, 'takes': 1, 'nor': 1, 'witch': 1, 'hath': 1, 'power': 1, 'charm': 1, 'so': 3, \"hallow'd\": 1, 'gracious': 1, 'time': 1, 'do': 2, 'part': 1, 'believe': 1, 'but': 1, 'look': 1, 'russet': 1, 'mantle': 1, 'clad': 1, 'walks': 1, \"o'er\": 1, 'dew': 1, 'yon': 1, 'high': 1, 'eastward': 1, 'hill': 1, 'break': 1, 'we': 4, 'watch': 1, 'up': 1, 'by': 1, 'my': 2, 'advice': 1, 'let': 1, 'us': 2, 'impart': 1, 'what': 1, 'seen': 1, 'tonight': 1, 'unto': 1, 'young': 1, 'hamlet': 1, 'for': 1, 'life': 1, 'dumb': 1, 'will': 1, 'speak': 1, 'him': 3, 'you': 1, 'consent': 1, 'shall': 2, 'acquaint': 1, 'as': 1, 'needful': 1, 'loves': 1, 'fitting': 1, 'duty': 1, \"let's\": 1, \"do't\": 1, 'pray': 1, 'morning': 1, 'know': 1, 'where': 1, 'find': 1, 'most': 1, 'conveniently': 1}\n"
          ],
          "name": "stdout"
        }
      ]
    },
    {
      "cell_type": "code",
      "metadata": {
        "colab": {
          "base_uri": "https://localhost:8080/"
        },
        "id": "azkD2RXRD3nx",
        "outputId": "2694acfa-0d99-46d7-f748-f5ca52d2e222"
      },
      "source": [
        "sorted(word_count(frase).items(), key=lambda item: item[1], reverse=True)"
      ],
      "execution_count": 5,
      "outputs": [
        {
          "output_type": "execute_result",
          "data": {
            "text/plain": [
              "[('the', 13),\n",
              " ('and', 10),\n",
              " ('to', 5),\n",
              " ('of', 5),\n",
              " ('in', 5),\n",
              " ('it', 4),\n",
              " ('i', 4),\n",
              " ('our', 4),\n",
              " ('we', 4),\n",
              " ('then', 3),\n",
              " ('have', 3),\n",
              " ('that', 3),\n",
              " ('is', 3),\n",
              " ('his', 3),\n",
              " ('spirit', 3),\n",
              " ('this', 3),\n",
              " ('no', 3),\n",
              " ('so', 3),\n",
              " ('him', 3),\n",
              " ('a', 2),\n",
              " ('upon', 2),\n",
              " ('heard', 2),\n",
              " ('cock', 2),\n",
              " ('morn', 2),\n",
              " ('with', 2),\n",
              " ('or', 2),\n",
              " ('say', 2),\n",
              " ('do', 2),\n",
              " ('my', 2),\n",
              " ('us', 2),\n",
              " ('shall', 2),\n",
              " ('started', 1),\n",
              " ('like', 1),\n",
              " ('guilty', 1),\n",
              " ('thing', 1),\n",
              " ('fearful', 1),\n",
              " ('summons', 1),\n",
              " ('trumpet', 1),\n",
              " ('doth', 1),\n",
              " ('lofty', 1),\n",
              " ('shrillsounding', 1),\n",
              " ('throat', 1),\n",
              " ('awake', 1),\n",
              " ('god', 1),\n",
              " ('day', 1),\n",
              " ('at', 1),\n",
              " ('warning', 1),\n",
              " ('whether', 1),\n",
              " ('sea', 1),\n",
              " ('fire', 1),\n",
              " ('earth', 1),\n",
              " ('air', 1),\n",
              " ('extravagant', 1),\n",
              " ('erring', 1),\n",
              " ('hies', 1),\n",
              " ('confine', 1),\n",
              " ('truth', 1),\n",
              " ('herein', 1),\n",
              " ('present', 1),\n",
              " ('object', 1),\n",
              " ('made', 1),\n",
              " ('probation', 1),\n",
              " ('faded', 1),\n",
              " ('on', 1),\n",
              " ('crowing', 1),\n",
              " ('some', 1),\n",
              " ('ever', 1),\n",
              " (\"'gainst\", 1),\n",
              " ('season', 1),\n",
              " ('comes', 1),\n",
              " ('wherein', 1),\n",
              " (\"saviour's\", 1),\n",
              " ('birth', 1),\n",
              " ('celebrated', 1),\n",
              " ('bird', 1),\n",
              " ('dawning', 1),\n",
              " ('singeth', 1),\n",
              " ('all', 1),\n",
              " ('night', 1),\n",
              " ('long', 1),\n",
              " ('they', 1),\n",
              " ('dares', 1),\n",
              " ('stir', 1),\n",
              " ('abroad', 1),\n",
              " ('nights', 1),\n",
              " ('are', 1),\n",
              " ('wholesome', 1),\n",
              " ('planets', 1),\n",
              " ('strike', 1),\n",
              " ('fairy', 1),\n",
              " ('takes', 1),\n",
              " ('nor', 1),\n",
              " ('witch', 1),\n",
              " ('hath', 1),\n",
              " ('power', 1),\n",
              " ('charm', 1),\n",
              " (\"hallow'd\", 1),\n",
              " ('gracious', 1),\n",
              " ('time', 1),\n",
              " ('part', 1),\n",
              " ('believe', 1),\n",
              " ('but', 1),\n",
              " ('look', 1),\n",
              " ('russet', 1),\n",
              " ('mantle', 1),\n",
              " ('clad', 1),\n",
              " ('walks', 1),\n",
              " (\"o'er\", 1),\n",
              " ('dew', 1),\n",
              " ('yon', 1),\n",
              " ('high', 1),\n",
              " ('eastward', 1),\n",
              " ('hill', 1),\n",
              " ('break', 1),\n",
              " ('watch', 1),\n",
              " ('up', 1),\n",
              " ('by', 1),\n",
              " ('advice', 1),\n",
              " ('let', 1),\n",
              " ('impart', 1),\n",
              " ('what', 1),\n",
              " ('seen', 1),\n",
              " ('tonight', 1),\n",
              " ('unto', 1),\n",
              " ('young', 1),\n",
              " ('hamlet', 1),\n",
              " ('for', 1),\n",
              " ('life', 1),\n",
              " ('dumb', 1),\n",
              " ('will', 1),\n",
              " ('speak', 1),\n",
              " ('you', 1),\n",
              " ('consent', 1),\n",
              " ('acquaint', 1),\n",
              " ('as', 1),\n",
              " ('needful', 1),\n",
              " ('loves', 1),\n",
              " ('fitting', 1),\n",
              " ('duty', 1),\n",
              " (\"let's\", 1),\n",
              " (\"do't\", 1),\n",
              " ('pray', 1),\n",
              " ('morning', 1),\n",
              " ('know', 1),\n",
              " ('where', 1),\n",
              " ('find', 1),\n",
              " ('most', 1),\n",
              " ('conveniently', 1)]"
            ]
          },
          "metadata": {
            "tags": []
          },
          "execution_count": 5
        }
      ]
    },
    {
      "cell_type": "code",
      "metadata": {
        "id": "cKd3_LI8Pw08"
      },
      "source": [
        ""
      ],
      "execution_count": null,
      "outputs": []
    }
  ]
}