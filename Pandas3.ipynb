{
  "nbformat": 4,
  "nbformat_minor": 0,
  "metadata": {
    "colab": {
      "name": "Pandas3.ipynb",
      "provenance": [],
      "authorship_tag": "ABX9TyM7pJeGhFT4lGh5H6nimucG",
      "include_colab_link": true
    },
    "kernelspec": {
      "name": "python3",
      "display_name": "Python 3"
    }
  },
  "cells": [
    {
      "cell_type": "markdown",
      "metadata": {
        "id": "view-in-github",
        "colab_type": "text"
      },
      "source": [
        "<a href=\"https://colab.research.google.com/github/constanza1993/coni-icaro/blob/master/Pandas3.ipynb\" target=\"_parent\"><img src=\"https://colab.research.google.com/assets/colab-badge.svg\" alt=\"Open In Colab\"/></a>"
      ]
    },
    {
      "cell_type": "code",
      "metadata": {
        "id": "efqigF8V3Xc1"
      },
      "source": [
        "import pandas as pd"
      ],
      "execution_count": null,
      "outputs": []
    },
    {
      "cell_type": "code",
      "metadata": {
        "id": "Spk04P853jul"
      },
      "source": [
        "df= pd.read_csv('https://raw.githubusercontent.com/nsoria1/icaro-datos-ejemplos/master/stock_data.csv')\r\n"
      ],
      "execution_count": 12,
      "outputs": []
    },
    {
      "cell_type": "code",
      "metadata": {
        "colab": {
          "base_uri": "https://localhost:8080/",
          "height": 306
        },
        "id": "nzdw6qWN4awn",
        "outputId": "6322f164-3393-4245-ef0f-08a891289ede"
      },
      "source": [
        "df.head(10)"
      ],
      "execution_count": 13,
      "outputs": [
        {
          "output_type": "execute_result",
          "data": {
            "text/html": [
              "<div>\n",
              "<style scoped>\n",
              "    .dataframe tbody tr th:only-of-type {\n",
              "        vertical-align: middle;\n",
              "    }\n",
              "\n",
              "    .dataframe tbody tr th {\n",
              "        vertical-align: top;\n",
              "    }\n",
              "\n",
              "    .dataframe thead th {\n",
              "        text-align: right;\n",
              "    }\n",
              "</style>\n",
              "<table border=\"1\" class=\"dataframe\">\n",
              "  <thead>\n",
              "    <tr style=\"text-align: right;\">\n",
              "      <th></th>\n",
              "      <th>Dia</th>\n",
              "      <th>Precio Apertura</th>\n",
              "      <th>Precio Cierre</th>\n",
              "      <th>Resumen</th>\n",
              "    </tr>\n",
              "  </thead>\n",
              "  <tbody>\n",
              "    <tr>\n",
              "      <th>0</th>\n",
              "      <td>1/1/2017</td>\n",
              "      <td>32.0</td>\n",
              "      <td>34.0</td>\n",
              "      <td>Ganancia</td>\n",
              "    </tr>\n",
              "    <tr>\n",
              "      <th>1</th>\n",
              "      <td>1/4/2017</td>\n",
              "      <td>NaN</td>\n",
              "      <td>32.0</td>\n",
              "      <td>Perdida</td>\n",
              "    </tr>\n",
              "    <tr>\n",
              "      <th>2</th>\n",
              "      <td>1/5/2017</td>\n",
              "      <td>28.0</td>\n",
              "      <td>NaN</td>\n",
              "      <td>Ganancia</td>\n",
              "    </tr>\n",
              "    <tr>\n",
              "      <th>3</th>\n",
              "      <td>1/6/2017</td>\n",
              "      <td>NaN</td>\n",
              "      <td>37.0</td>\n",
              "      <td>NaN</td>\n",
              "    </tr>\n",
              "    <tr>\n",
              "      <th>4</th>\n",
              "      <td>1/7/2017</td>\n",
              "      <td>32.0</td>\n",
              "      <td>NaN</td>\n",
              "      <td>Ganancia</td>\n",
              "    </tr>\n",
              "    <tr>\n",
              "      <th>5</th>\n",
              "      <td>1/8/2017</td>\n",
              "      <td>NaN</td>\n",
              "      <td>NaN</td>\n",
              "      <td>Perdida</td>\n",
              "    </tr>\n",
              "    <tr>\n",
              "      <th>6</th>\n",
              "      <td>1/9/2017</td>\n",
              "      <td>NaN</td>\n",
              "      <td>NaN</td>\n",
              "      <td>NaN</td>\n",
              "    </tr>\n",
              "    <tr>\n",
              "      <th>7</th>\n",
              "      <td>1/10/2017</td>\n",
              "      <td>34.0</td>\n",
              "      <td>36.0</td>\n",
              "      <td>Perdida</td>\n",
              "    </tr>\n",
              "    <tr>\n",
              "      <th>8</th>\n",
              "      <td>1/11/2017</td>\n",
              "      <td>40.0</td>\n",
              "      <td>34.0</td>\n",
              "      <td>Ganancia</td>\n",
              "    </tr>\n",
              "  </tbody>\n",
              "</table>\n",
              "</div>"
            ],
            "text/plain": [
              "         Dia  Precio Apertura  Precio Cierre   Resumen\n",
              "0   1/1/2017             32.0           34.0  Ganancia\n",
              "1   1/4/2017              NaN           32.0   Perdida\n",
              "2   1/5/2017             28.0            NaN  Ganancia\n",
              "3   1/6/2017              NaN           37.0       NaN\n",
              "4   1/7/2017             32.0            NaN  Ganancia\n",
              "5   1/8/2017              NaN            NaN   Perdida\n",
              "6   1/9/2017              NaN            NaN       NaN\n",
              "7  1/10/2017             34.0           36.0   Perdida\n",
              "8  1/11/2017             40.0           34.0  Ganancia"
            ]
          },
          "metadata": {
            "tags": []
          },
          "execution_count": 13
        }
      ]
    },
    {
      "cell_type": "code",
      "metadata": {
        "colab": {
          "base_uri": "https://localhost:8080/",
          "height": 277
        },
        "id": "tuWMg8ov53E4",
        "outputId": "12b062f8-886a-42fa-aa9f-aec983fb1143"
      },
      "source": [
        "df.describe()"
      ],
      "execution_count": 14,
      "outputs": [
        {
          "output_type": "execute_result",
          "data": {
            "text/html": [
              "<div>\n",
              "<style scoped>\n",
              "    .dataframe tbody tr th:only-of-type {\n",
              "        vertical-align: middle;\n",
              "    }\n",
              "\n",
              "    .dataframe tbody tr th {\n",
              "        vertical-align: top;\n",
              "    }\n",
              "\n",
              "    .dataframe thead th {\n",
              "        text-align: right;\n",
              "    }\n",
              "</style>\n",
              "<table border=\"1\" class=\"dataframe\">\n",
              "  <thead>\n",
              "    <tr style=\"text-align: right;\">\n",
              "      <th></th>\n",
              "      <th>Precio Apertura</th>\n",
              "      <th>Precio Cierre</th>\n",
              "    </tr>\n",
              "  </thead>\n",
              "  <tbody>\n",
              "    <tr>\n",
              "      <th>count</th>\n",
              "      <td>5.00000</td>\n",
              "      <td>5.000000</td>\n",
              "    </tr>\n",
              "    <tr>\n",
              "      <th>mean</th>\n",
              "      <td>33.20000</td>\n",
              "      <td>34.600000</td>\n",
              "    </tr>\n",
              "    <tr>\n",
              "      <th>std</th>\n",
              "      <td>4.38178</td>\n",
              "      <td>1.949359</td>\n",
              "    </tr>\n",
              "    <tr>\n",
              "      <th>min</th>\n",
              "      <td>28.00000</td>\n",
              "      <td>32.000000</td>\n",
              "    </tr>\n",
              "    <tr>\n",
              "      <th>25%</th>\n",
              "      <td>32.00000</td>\n",
              "      <td>34.000000</td>\n",
              "    </tr>\n",
              "    <tr>\n",
              "      <th>50%</th>\n",
              "      <td>32.00000</td>\n",
              "      <td>34.000000</td>\n",
              "    </tr>\n",
              "    <tr>\n",
              "      <th>75%</th>\n",
              "      <td>34.00000</td>\n",
              "      <td>36.000000</td>\n",
              "    </tr>\n",
              "    <tr>\n",
              "      <th>max</th>\n",
              "      <td>40.00000</td>\n",
              "      <td>37.000000</td>\n",
              "    </tr>\n",
              "  </tbody>\n",
              "</table>\n",
              "</div>"
            ],
            "text/plain": [
              "       Precio Apertura  Precio Cierre\n",
              "count          5.00000       5.000000\n",
              "mean          33.20000      34.600000\n",
              "std            4.38178       1.949359\n",
              "min           28.00000      32.000000\n",
              "25%           32.00000      34.000000\n",
              "50%           32.00000      34.000000\n",
              "75%           34.00000      36.000000\n",
              "max           40.00000      37.000000"
            ]
          },
          "metadata": {
            "tags": []
          },
          "execution_count": 14
        }
      ]
    },
    {
      "cell_type": "code",
      "metadata": {
        "colab": {
          "base_uri": "https://localhost:8080/",
          "height": 133
        },
        "id": "oyW-nbdr6FJo",
        "outputId": "fec1f46f-8f7a-4378-e18c-c9542bf53917"
      },
      "source": [
        "df.groupby(['Resumen']).count()"
      ],
      "execution_count": 15,
      "outputs": [
        {
          "output_type": "execute_result",
          "data": {
            "text/html": [
              "<div>\n",
              "<style scoped>\n",
              "    .dataframe tbody tr th:only-of-type {\n",
              "        vertical-align: middle;\n",
              "    }\n",
              "\n",
              "    .dataframe tbody tr th {\n",
              "        vertical-align: top;\n",
              "    }\n",
              "\n",
              "    .dataframe thead th {\n",
              "        text-align: right;\n",
              "    }\n",
              "</style>\n",
              "<table border=\"1\" class=\"dataframe\">\n",
              "  <thead>\n",
              "    <tr style=\"text-align: right;\">\n",
              "      <th></th>\n",
              "      <th>Dia</th>\n",
              "      <th>Precio Apertura</th>\n",
              "      <th>Precio Cierre</th>\n",
              "    </tr>\n",
              "    <tr>\n",
              "      <th>Resumen</th>\n",
              "      <th></th>\n",
              "      <th></th>\n",
              "      <th></th>\n",
              "    </tr>\n",
              "  </thead>\n",
              "  <tbody>\n",
              "    <tr>\n",
              "      <th>Ganancia</th>\n",
              "      <td>4</td>\n",
              "      <td>4</td>\n",
              "      <td>2</td>\n",
              "    </tr>\n",
              "    <tr>\n",
              "      <th>Perdida</th>\n",
              "      <td>3</td>\n",
              "      <td>1</td>\n",
              "      <td>2</td>\n",
              "    </tr>\n",
              "  </tbody>\n",
              "</table>\n",
              "</div>"
            ],
            "text/plain": [
              "          Dia  Precio Apertura  Precio Cierre\n",
              "Resumen                                      \n",
              "Ganancia    4                4              2\n",
              "Perdida     3                1              2"
            ]
          },
          "metadata": {
            "tags": []
          },
          "execution_count": 15
        }
      ]
    },
    {
      "cell_type": "code",
      "metadata": {
        "colab": {
          "base_uri": "https://localhost:8080/"
        },
        "id": "1oQ9fn_26pGM",
        "outputId": "6ffcccd3-82db-4f2c-c31b-c744cf180472"
      },
      "source": [
        "col = df['Precio Cierre']\r\n",
        "type(col)"
      ],
      "execution_count": 17,
      "outputs": [
        {
          "output_type": "execute_result",
          "data": {
            "text/plain": [
              "pandas.core.series.Series"
            ]
          },
          "metadata": {
            "tags": []
          },
          "execution_count": 17
        }
      ]
    },
    {
      "cell_type": "code",
      "metadata": {
        "id": "04z6LEx66tTW"
      },
      "source": [
        "import requests\r\n",
        "\r\n"
      ],
      "execution_count": 27,
      "outputs": []
    },
    {
      "cell_type": "code",
      "metadata": {
        "id": "Mt9eGwuMHmEf"
      },
      "source": [
        "import requests\r\n",
        "csv_url = 'https://www1.ncdc.noaa.gov/pub/data/cdo/samples/PRECIP_HLY_sample_csv.csv'\r\n",
        "req = requests.get(csv_url)\r\n",
        "url_content = req.content\r\n",
        "precip_sample_file_name = 'precip_sample.csv'\r\n",
        "csv_file = open(precip_sample_file_name, 'wb')\r\n",
        "csv_file.write(url_content)\r\n",
        "csv_file.close()"
      ],
      "execution_count": 32,
      "outputs": []
    },
    {
      "cell_type": "code",
      "metadata": {
        "id": "EgMTZRoKJlAh"
      },
      "source": [
        "import pandas as pd\r\n",
        "df = 'precip_sample.csv'"
      ],
      "execution_count": 36,
      "outputs": []
    },
    {
      "cell_type": "code",
      "metadata": {
        "id": "iktOtdd4Jp_e"
      },
      "source": [
        "df = pd.read_csv('https://www1.ncdc.noaa.gov/pub/data/cdo/samples/PRECIP_HLY_sample_csv.csv')"
      ],
      "execution_count": 38,
      "outputs": []
    },
    {
      "cell_type": "code",
      "metadata": {
        "colab": {
          "base_uri": "https://localhost:8080/",
          "height": 277
        },
        "id": "rskJvPWIJxlw",
        "outputId": "29be8b04-c575-4422-e8f9-d47894475c95"
      },
      "source": [
        "df.describe()"
      ],
      "execution_count": 39,
      "outputs": [
        {
          "output_type": "execute_result",
          "data": {
            "text/html": [
              "<div>\n",
              "<style scoped>\n",
              "    .dataframe tbody tr th:only-of-type {\n",
              "        vertical-align: middle;\n",
              "    }\n",
              "\n",
              "    .dataframe tbody tr th {\n",
              "        vertical-align: top;\n",
              "    }\n",
              "\n",
              "    .dataframe thead th {\n",
              "        text-align: right;\n",
              "    }\n",
              "</style>\n",
              "<table border=\"1\" class=\"dataframe\">\n",
              "  <thead>\n",
              "    <tr style=\"text-align: right;\">\n",
              "      <th></th>\n",
              "      <th>ELEVATION</th>\n",
              "      <th>LATITUDE</th>\n",
              "      <th>LONGITUDE</th>\n",
              "      <th>HPCP</th>\n",
              "    </tr>\n",
              "  </thead>\n",
              "  <tbody>\n",
              "    <tr>\n",
              "      <th>count</th>\n",
              "      <td>3.0</td>\n",
              "      <td>3.0000</td>\n",
              "      <td>3.0000</td>\n",
              "      <td>3.000000</td>\n",
              "    </tr>\n",
              "    <tr>\n",
              "      <th>mean</th>\n",
              "      <td>682.1</td>\n",
              "      <td>35.5954</td>\n",
              "      <td>-82.5568</td>\n",
              "      <td>33333.333333</td>\n",
              "    </tr>\n",
              "    <tr>\n",
              "      <th>std</th>\n",
              "      <td>0.0</td>\n",
              "      <td>0.0000</td>\n",
              "      <td>0.0000</td>\n",
              "      <td>57734.160896</td>\n",
              "    </tr>\n",
              "    <tr>\n",
              "      <th>min</th>\n",
              "      <td>682.1</td>\n",
              "      <td>35.5954</td>\n",
              "      <td>-82.5568</td>\n",
              "      <td>0.000000</td>\n",
              "    </tr>\n",
              "    <tr>\n",
              "      <th>25%</th>\n",
              "      <td>682.1</td>\n",
              "      <td>35.5954</td>\n",
              "      <td>-82.5568</td>\n",
              "      <td>0.500000</td>\n",
              "    </tr>\n",
              "    <tr>\n",
              "      <th>50%</th>\n",
              "      <td>682.1</td>\n",
              "      <td>35.5954</td>\n",
              "      <td>-82.5568</td>\n",
              "      <td>1.000000</td>\n",
              "    </tr>\n",
              "    <tr>\n",
              "      <th>75%</th>\n",
              "      <td>682.1</td>\n",
              "      <td>35.5954</td>\n",
              "      <td>-82.5568</td>\n",
              "      <td>50000.000000</td>\n",
              "    </tr>\n",
              "    <tr>\n",
              "      <th>max</th>\n",
              "      <td>682.1</td>\n",
              "      <td>35.5954</td>\n",
              "      <td>-82.5568</td>\n",
              "      <td>99999.000000</td>\n",
              "    </tr>\n",
              "  </tbody>\n",
              "</table>\n",
              "</div>"
            ],
            "text/plain": [
              "       ELEVATION  LATITUDE  LONGITUDE          HPCP\n",
              "count        3.0    3.0000     3.0000      3.000000\n",
              "mean       682.1   35.5954   -82.5568  33333.333333\n",
              "std          0.0    0.0000     0.0000  57734.160896\n",
              "min        682.1   35.5954   -82.5568      0.000000\n",
              "25%        682.1   35.5954   -82.5568      0.500000\n",
              "50%        682.1   35.5954   -82.5568      1.000000\n",
              "75%        682.1   35.5954   -82.5568  50000.000000\n",
              "max        682.1   35.5954   -82.5568  99999.000000"
            ]
          },
          "metadata": {
            "tags": []
          },
          "execution_count": 39
        }
      ]
    },
    {
      "cell_type": "code",
      "metadata": {
        "colab": {
          "base_uri": "https://localhost:8080/",
          "height": 133
        },
        "id": "T7ESZgbDKXDd",
        "outputId": "2ccce2db-9c5e-4d36-c265-48b52924cb6d"
      },
      "source": [
        "df.head()"
      ],
      "execution_count": 41,
      "outputs": [
        {
          "output_type": "execute_result",
          "data": {
            "text/html": [
              "<div>\n",
              "<style scoped>\n",
              "    .dataframe tbody tr th:only-of-type {\n",
              "        vertical-align: middle;\n",
              "    }\n",
              "\n",
              "    .dataframe tbody tr th {\n",
              "        vertical-align: top;\n",
              "    }\n",
              "\n",
              "    .dataframe thead th {\n",
              "        text-align: right;\n",
              "    }\n",
              "</style>\n",
              "<table border=\"1\" class=\"dataframe\">\n",
              "  <thead>\n",
              "    <tr style=\"text-align: right;\">\n",
              "      <th></th>\n",
              "      <th>STATION</th>\n",
              "      <th>STATION_NAME</th>\n",
              "      <th>ELEVATION</th>\n",
              "      <th>LATITUDE</th>\n",
              "      <th>LONGITUDE</th>\n",
              "      <th>DATE</th>\n",
              "      <th>HPCP</th>\n",
              "      <th>Measurement Flag</th>\n",
              "      <th>Quality Flag</th>\n",
              "    </tr>\n",
              "  </thead>\n",
              "  <tbody>\n",
              "    <tr>\n",
              "      <th>0</th>\n",
              "      <td>COOP:310301</td>\n",
              "      <td>ASHEVILLE NC US</td>\n",
              "      <td>682.1</td>\n",
              "      <td>35.5954</td>\n",
              "      <td>-82.5568</td>\n",
              "      <td>20100101 00:00</td>\n",
              "      <td>99999</td>\n",
              "      <td>]</td>\n",
              "      <td></td>\n",
              "    </tr>\n",
              "    <tr>\n",
              "      <th>1</th>\n",
              "      <td>COOP:310301</td>\n",
              "      <td>ASHEVILLE NC US</td>\n",
              "      <td>682.1</td>\n",
              "      <td>35.5954</td>\n",
              "      <td>-82.5568</td>\n",
              "      <td>20100101 01:00</td>\n",
              "      <td>0</td>\n",
              "      <td>g</td>\n",
              "      <td></td>\n",
              "    </tr>\n",
              "    <tr>\n",
              "      <th>2</th>\n",
              "      <td>COOP:310301</td>\n",
              "      <td>ASHEVILLE NC US</td>\n",
              "      <td>682.1</td>\n",
              "      <td>35.5954</td>\n",
              "      <td>-82.5568</td>\n",
              "      <td>20100102 06:00</td>\n",
              "      <td>1</td>\n",
              "      <td></td>\n",
              "      <td></td>\n",
              "    </tr>\n",
              "  </tbody>\n",
              "</table>\n",
              "</div>"
            ],
            "text/plain": [
              "       STATION     STATION_NAME  ELEVATION  ...   HPCP  Measurement Flag Quality Flag\n",
              "0  COOP:310301  ASHEVILLE NC US      682.1  ...  99999                 ]             \n",
              "1  COOP:310301  ASHEVILLE NC US      682.1  ...      0                 g             \n",
              "2  COOP:310301  ASHEVILLE NC US      682.1  ...      1                               \n",
              "\n",
              "[3 rows x 9 columns]"
            ]
          },
          "metadata": {
            "tags": []
          },
          "execution_count": 41
        }
      ]
    },
    {
      "cell_type": "code",
      "metadata": {
        "colab": {
          "base_uri": "https://localhost:8080/"
        },
        "id": "eeesMoH4K4i7",
        "outputId": "7b9e1e6e-59c9-4ff0-d513-e6cc6ce2b59a"
      },
      "source": [
        "df.shape"
      ],
      "execution_count": 43,
      "outputs": [
        {
          "output_type": "execute_result",
          "data": {
            "text/plain": [
              "(3, 9)"
            ]
          },
          "metadata": {
            "tags": []
          },
          "execution_count": 43
        }
      ]
    },
    {
      "cell_type": "code",
      "metadata": {
        "colab": {
          "base_uri": "https://localhost:8080/",
          "height": 622
        },
        "id": "0CvWgc3NMC-k",
        "outputId": "5ebbadea-3f53-4331-ceb2-7b80952c7acf"
      },
      "source": [
        "df = pd.read_csv('https://raw.githubusercontent.com/MohaRios/datos_para_ejercicios/master/cotizacion.csv', sep= ';')\r\n",
        "df.head(20)"
      ],
      "execution_count": 54,
      "outputs": [
        {
          "output_type": "execute_result",
          "data": {
            "text/html": [
              "<div>\n",
              "<style scoped>\n",
              "    .dataframe tbody tr th:only-of-type {\n",
              "        vertical-align: middle;\n",
              "    }\n",
              "\n",
              "    .dataframe tbody tr th {\n",
              "        vertical-align: top;\n",
              "    }\n",
              "\n",
              "    .dataframe thead th {\n",
              "        text-align: right;\n",
              "    }\n",
              "</style>\n",
              "<table border=\"1\" class=\"dataframe\">\n",
              "  <thead>\n",
              "    <tr style=\"text-align: right;\">\n",
              "      <th></th>\n",
              "      <th>Nombre</th>\n",
              "      <th>Final</th>\n",
              "      <th>Máximo</th>\n",
              "      <th>Mínimo</th>\n",
              "      <th>Volumen</th>\n",
              "      <th>Efectivo</th>\n",
              "    </tr>\n",
              "  </thead>\n",
              "  <tbody>\n",
              "    <tr>\n",
              "      <th>0</th>\n",
              "      <td>ACCIONA</td>\n",
              "      <td>95,95</td>\n",
              "      <td>96,75</td>\n",
              "      <td>94,4</td>\n",
              "      <td>84.962</td>\n",
              "      <td>8166,11</td>\n",
              "    </tr>\n",
              "    <tr>\n",
              "      <th>1</th>\n",
              "      <td>ACERINOX</td>\n",
              "      <td>8668</td>\n",
              "      <td>8672</td>\n",
              "      <td>8468</td>\n",
              "      <td>885.99</td>\n",
              "      <td>7633,81</td>\n",
              "    </tr>\n",
              "    <tr>\n",
              "      <th>2</th>\n",
              "      <td>ACS</td>\n",
              "      <td>37,28</td>\n",
              "      <td>37,66</td>\n",
              "      <td>37,22</td>\n",
              "      <td>655.982</td>\n",
              "      <td>24517,29</td>\n",
              "    </tr>\n",
              "    <tr>\n",
              "      <th>3</th>\n",
              "      <td>AENA</td>\n",
              "      <td>167,1</td>\n",
              "      <td>167,5</td>\n",
              "      <td>166,1</td>\n",
              "      <td>133.738</td>\n",
              "      <td>22336,10</td>\n",
              "    </tr>\n",
              "    <tr>\n",
              "      <th>4</th>\n",
              "      <td>AMADEUS</td>\n",
              "      <td>69,96</td>\n",
              "      <td>70,64</td>\n",
              "      <td>69,56</td>\n",
              "      <td>640.476</td>\n",
              "      <td>44795,47</td>\n",
              "    </tr>\n",
              "    <tr>\n",
              "      <th>5</th>\n",
              "      <td>ARCELORMIT.</td>\n",
              "      <td>14152</td>\n",
              "      <td>14318</td>\n",
              "      <td>14,08</td>\n",
              "      <td>702.841</td>\n",
              "      <td>9989,65</td>\n",
              "    </tr>\n",
              "    <tr>\n",
              "      <th>6</th>\n",
              "      <td>BA.SABADELL</td>\n",
              "      <td>1,0165</td>\n",
              "      <td>1033</td>\n",
              "      <td>1,0165</td>\n",
              "      <td>12.358.512</td>\n",
              "      <td>12637,65</td>\n",
              "    </tr>\n",
              "    <tr>\n",
              "      <th>7</th>\n",
              "      <td>BA.SANTANDER</td>\n",
              "      <td>4,02</td>\n",
              "      <td>4,0675</td>\n",
              "      <td>4,01</td>\n",
              "      <td>36.129.692</td>\n",
              "      <td>145765,44</td>\n",
              "    </tr>\n",
              "    <tr>\n",
              "      <th>8</th>\n",
              "      <td>BANKIA</td>\n",
              "      <td>2249</td>\n",
              "      <td>2262</td>\n",
              "      <td>2224</td>\n",
              "      <td>3.024.454</td>\n",
              "      <td>6803,54</td>\n",
              "    </tr>\n",
              "    <tr>\n",
              "      <th>9</th>\n",
              "      <td>BANKINTER</td>\n",
              "      <td>6,56</td>\n",
              "      <td>6604</td>\n",
              "      <td>6522</td>\n",
              "      <td>1.375.976</td>\n",
              "      <td>9030,20</td>\n",
              "    </tr>\n",
              "    <tr>\n",
              "      <th>10</th>\n",
              "      <td>BBVA</td>\n",
              "      <td>5024</td>\n",
              "      <td>5,05</td>\n",
              "      <td>4969</td>\n",
              "      <td>26.447.612</td>\n",
              "      <td>132560,15</td>\n",
              "    </tr>\n",
              "    <tr>\n",
              "      <th>11</th>\n",
              "      <td>CAIXABANK</td>\n",
              "      <td>2763</td>\n",
              "      <td>2806</td>\n",
              "      <td>2762</td>\n",
              "      <td>13.031.097</td>\n",
              "      <td>36239,22</td>\n",
              "    </tr>\n",
              "    <tr>\n",
              "      <th>12</th>\n",
              "      <td>CELLNEX</td>\n",
              "      <td>30,17</td>\n",
              "      <td>30,7</td>\n",
              "      <td>30,17</td>\n",
              "      <td>857.237</td>\n",
              "      <td>25965,29</td>\n",
              "    </tr>\n",
              "    <tr>\n",
              "      <th>13</th>\n",
              "      <td>CIE AUTOMOT.</td>\n",
              "      <td>23,44</td>\n",
              "      <td>23,74</td>\n",
              "      <td>23,4</td>\n",
              "      <td>99.506</td>\n",
              "      <td>2343,09</td>\n",
              "    </tr>\n",
              "    <tr>\n",
              "      <th>14</th>\n",
              "      <td>ENAGAS</td>\n",
              "      <td>25,6</td>\n",
              "      <td>25,66</td>\n",
              "      <td>25,07</td>\n",
              "      <td>842.54</td>\n",
              "      <td>21524,77</td>\n",
              "    </tr>\n",
              "    <tr>\n",
              "      <th>15</th>\n",
              "      <td>ENCE</td>\n",
              "      <td>3882</td>\n",
              "      <td>3974</td>\n",
              "      <td>3846</td>\n",
              "      <td>2.099.698</td>\n",
              "      <td>8219,83</td>\n",
              "    </tr>\n",
              "    <tr>\n",
              "      <th>16</th>\n",
              "      <td>ENDESA</td>\n",
              "      <td>22,95</td>\n",
              "      <td>23,03</td>\n",
              "      <td>22,62</td>\n",
              "      <td>1.236.799</td>\n",
              "      <td>28233,46</td>\n",
              "    </tr>\n",
              "    <tr>\n",
              "      <th>17</th>\n",
              "      <td>FERROVIAL</td>\n",
              "      <td>21,61</td>\n",
              "      <td>21,72</td>\n",
              "      <td>21,38</td>\n",
              "      <td>2.065.931</td>\n",
              "      <td>44656,05</td>\n",
              "    </tr>\n",
              "    <tr>\n",
              "      <th>18</th>\n",
              "      <td>GRIFOLS CL.A</td>\n",
              "      <td>23,3</td>\n",
              "      <td>23,6</td>\n",
              "      <td>23,27</td>\n",
              "      <td>719.503</td>\n",
              "      <td>16787,55</td>\n",
              "    </tr>\n",
              "    <tr>\n",
              "      <th>19</th>\n",
              "      <td>IAG</td>\n",
              "      <td>5,3</td>\n",
              "      <td>5,46</td>\n",
              "      <td>5292</td>\n",
              "      <td>2.155.081</td>\n",
              "      <td>11561,95</td>\n",
              "    </tr>\n",
              "  </tbody>\n",
              "</table>\n",
              "</div>"
            ],
            "text/plain": [
              "          Nombre   Final  Máximo  Mínimo     Volumen   Efectivo\n",
              "0        ACCIONA   95,95   96,75    94,4      84.962    8166,11\n",
              "1       ACERINOX    8668    8672    8468      885.99    7633,81\n",
              "2            ACS   37,28   37,66   37,22     655.982   24517,29\n",
              "3           AENA   167,1   167,5   166,1     133.738   22336,10\n",
              "4        AMADEUS   69,96   70,64   69,56     640.476   44795,47\n",
              "5    ARCELORMIT.   14152   14318   14,08     702.841    9989,65\n",
              "6    BA.SABADELL  1,0165    1033  1,0165  12.358.512   12637,65\n",
              "7   BA.SANTANDER    4,02  4,0675    4,01  36.129.692  145765,44\n",
              "8         BANKIA    2249    2262    2224   3.024.454    6803,54\n",
              "9      BANKINTER    6,56    6604    6522   1.375.976    9030,20\n",
              "10          BBVA    5024    5,05    4969  26.447.612  132560,15\n",
              "11     CAIXABANK    2763    2806    2762  13.031.097   36239,22\n",
              "12       CELLNEX   30,17    30,7   30,17     857.237   25965,29\n",
              "13  CIE AUTOMOT.   23,44   23,74    23,4      99.506    2343,09\n",
              "14        ENAGAS    25,6   25,66   25,07      842.54   21524,77\n",
              "15          ENCE    3882    3974    3846   2.099.698    8219,83\n",
              "16        ENDESA   22,95   23,03   22,62   1.236.799   28233,46\n",
              "17     FERROVIAL   21,61   21,72   21,38   2.065.931   44656,05\n",
              "18  GRIFOLS CL.A    23,3    23,6   23,27     719.503   16787,55\n",
              "19           IAG     5,3    5,46    5292   2.155.081   11561,95"
            ]
          },
          "metadata": {
            "tags": []
          },
          "execution_count": 54
        }
      ]
    },
    {
      "cell_type": "code",
      "metadata": {
        "colab": {
          "base_uri": "https://localhost:8080/"
        },
        "id": "DYwzElTJNIxz",
        "outputId": "8998efac-9311-477d-c3b6-b33266250ed7"
      },
      "source": [
        "df.Nombre.value_counts()"
      ],
      "execution_count": 53,
      "outputs": [
        {
          "output_type": "execute_result",
          "data": {
            "text/plain": [
              "BA.SANTANDER    1\n",
              "INDRA A         1\n",
              "REPSOL          1\n",
              "IAG             1\n",
              "R.E.C.          1\n",
              "TEC.REUNIDAS    1\n",
              "INM.COLONIAL    1\n",
              "MERLIN          1\n",
              "IBERDROLA       1\n",
              "ENCE            1\n",
              "TELEFONICA      1\n",
              "FERROVIAL       1\n",
              "MELIA HOTELS    1\n",
              "CIE AUTOMOT.    1\n",
              "CAIXABANK       1\n",
              "VISCOFAN        1\n",
              "ENAGAS          1\n",
              "INDITEX         1\n",
              "AMADEUS         1\n",
              "AENA            1\n",
              "NATURGY         1\n",
              "ACCIONA         1\n",
              "ARCELORMIT.     1\n",
              "ACERINOX        1\n",
              "BA.SABADELL     1\n",
              "BBVA            1\n",
              "CELLNEX         1\n",
              "ENDESA          1\n",
              "BANKINTER       1\n",
              "SIEMENS GAME    1\n",
              "ACS             1\n",
              "MAPFRE          1\n",
              "BANKIA          1\n",
              "GRIFOLS CL.A    1\n",
              "MEDIASET        1\n",
              "Name: Nombre, dtype: int64"
            ]
          },
          "metadata": {
            "tags": []
          },
          "execution_count": 53
        }
      ]
    },
    {
      "cell_type": "code",
      "metadata": {
        "colab": {
          "base_uri": "https://localhost:8080/",
          "height": 296
        },
        "id": "ojRh071cN2Zf",
        "outputId": "d7a622ce-fc18-46b1-fe74-29fb9cf9075a"
      },
      "source": [
        "df.iloc[df['Volumen'].idxmax()]"
      ],
      "execution_count": 58,
      "outputs": [
        {
          "output_type": "error",
          "ename": "TypeError",
          "evalue": "ignored",
          "traceback": [
            "\u001b[0;31m---------------------------------------------------------------------------\u001b[0m",
            "\u001b[0;31mTypeError\u001b[0m                                 Traceback (most recent call last)",
            "\u001b[0;32m<ipython-input-58-a9cc5d63114c>\u001b[0m in \u001b[0;36m<module>\u001b[0;34m()\u001b[0m\n\u001b[0;32m----> 1\u001b[0;31m \u001b[0mdf\u001b[0m\u001b[0;34m.\u001b[0m\u001b[0miloc\u001b[0m\u001b[0;34m[\u001b[0m\u001b[0mdf\u001b[0m\u001b[0;34m[\u001b[0m\u001b[0;34m'Volumen'\u001b[0m\u001b[0;34m]\u001b[0m\u001b[0;34m.\u001b[0m\u001b[0midxmax\u001b[0m\u001b[0;34m(\u001b[0m\u001b[0;34m)\u001b[0m\u001b[0;34m]\u001b[0m\u001b[0;34m\u001b[0m\u001b[0;34m\u001b[0m\u001b[0m\n\u001b[0m",
            "\u001b[0;32m/usr/local/lib/python3.7/dist-packages/pandas/core/series.py\u001b[0m in \u001b[0;36midxmax\u001b[0;34m(self, axis, skipna, *args, **kwargs)\u001b[0m\n\u001b[1;32m   2179\u001b[0m         \"\"\"\n\u001b[1;32m   2180\u001b[0m         \u001b[0mskipna\u001b[0m \u001b[0;34m=\u001b[0m \u001b[0mnv\u001b[0m\u001b[0;34m.\u001b[0m\u001b[0mvalidate_argmax_with_skipna\u001b[0m\u001b[0;34m(\u001b[0m\u001b[0mskipna\u001b[0m\u001b[0;34m,\u001b[0m \u001b[0margs\u001b[0m\u001b[0;34m,\u001b[0m \u001b[0mkwargs\u001b[0m\u001b[0;34m)\u001b[0m\u001b[0;34m\u001b[0m\u001b[0;34m\u001b[0m\u001b[0m\n\u001b[0;32m-> 2181\u001b[0;31m         \u001b[0mi\u001b[0m \u001b[0;34m=\u001b[0m \u001b[0mnanops\u001b[0m\u001b[0;34m.\u001b[0m\u001b[0mnanargmax\u001b[0m\u001b[0;34m(\u001b[0m\u001b[0mself\u001b[0m\u001b[0;34m.\u001b[0m\u001b[0m_values\u001b[0m\u001b[0;34m,\u001b[0m \u001b[0mskipna\u001b[0m\u001b[0;34m=\u001b[0m\u001b[0mskipna\u001b[0m\u001b[0;34m)\u001b[0m\u001b[0;34m\u001b[0m\u001b[0;34m\u001b[0m\u001b[0m\n\u001b[0m\u001b[1;32m   2182\u001b[0m         \u001b[0;32mif\u001b[0m \u001b[0mi\u001b[0m \u001b[0;34m==\u001b[0m \u001b[0;34m-\u001b[0m\u001b[0;36m1\u001b[0m\u001b[0;34m:\u001b[0m\u001b[0;34m\u001b[0m\u001b[0;34m\u001b[0m\u001b[0m\n\u001b[1;32m   2183\u001b[0m             \u001b[0;32mreturn\u001b[0m \u001b[0mnp\u001b[0m\u001b[0;34m.\u001b[0m\u001b[0mnan\u001b[0m\u001b[0;34m\u001b[0m\u001b[0;34m\u001b[0m\u001b[0m\n",
            "\u001b[0;32m/usr/local/lib/python3.7/dist-packages/pandas/core/nanops.py\u001b[0m in \u001b[0;36m_f\u001b[0;34m(*args, **kwargs)\u001b[0m\n\u001b[1;32m     65\u001b[0m                 \u001b[0mf_name\u001b[0m \u001b[0;34m=\u001b[0m \u001b[0mf\u001b[0m\u001b[0;34m.\u001b[0m\u001b[0m__name__\u001b[0m\u001b[0;34m.\u001b[0m\u001b[0mreplace\u001b[0m\u001b[0;34m(\u001b[0m\u001b[0;34m\"nan\"\u001b[0m\u001b[0;34m,\u001b[0m \u001b[0;34m\"\"\u001b[0m\u001b[0;34m)\u001b[0m\u001b[0;34m\u001b[0m\u001b[0;34m\u001b[0m\u001b[0m\n\u001b[1;32m     66\u001b[0m                 raise TypeError(\n\u001b[0;32m---> 67\u001b[0;31m                     \u001b[0;34mf\"reduction operation '{f_name}' not allowed for this dtype\"\u001b[0m\u001b[0;34m\u001b[0m\u001b[0;34m\u001b[0m\u001b[0m\n\u001b[0m\u001b[1;32m     68\u001b[0m                 )\n\u001b[1;32m     69\u001b[0m             \u001b[0;32mtry\u001b[0m\u001b[0;34m:\u001b[0m\u001b[0;34m\u001b[0m\u001b[0;34m\u001b[0m\u001b[0m\n",
            "\u001b[0;31mTypeError\u001b[0m: reduction operation 'argmax' not allowed for this dtype"
          ]
        }
      ]
    },
    {
      "cell_type": "code",
      "metadata": {
        "colab": {
          "base_uri": "https://localhost:8080/",
          "height": 76
        },
        "id": "qACYriJQOpwG",
        "outputId": "29445d23-8c5a-4f26-a0be-7d3c82d811d9"
      },
      "source": [
        "df.query('Volumen == Volumen.max()')\r\n"
      ],
      "execution_count": 60,
      "outputs": [
        {
          "output_type": "execute_result",
          "data": {
            "text/html": [
              "<div>\n",
              "<style scoped>\n",
              "    .dataframe tbody tr th:only-of-type {\n",
              "        vertical-align: middle;\n",
              "    }\n",
              "\n",
              "    .dataframe tbody tr th {\n",
              "        vertical-align: top;\n",
              "    }\n",
              "\n",
              "    .dataframe thead th {\n",
              "        text-align: right;\n",
              "    }\n",
              "</style>\n",
              "<table border=\"1\" class=\"dataframe\">\n",
              "  <thead>\n",
              "    <tr style=\"text-align: right;\">\n",
              "      <th></th>\n",
              "      <th>Nombre</th>\n",
              "      <th>Final</th>\n",
              "      <th>Máximo</th>\n",
              "      <th>Mínimo</th>\n",
              "      <th>Volumen</th>\n",
              "      <th>Efectivo</th>\n",
              "    </tr>\n",
              "  </thead>\n",
              "  <tbody>\n",
              "    <tr>\n",
              "      <th>13</th>\n",
              "      <td>CIE AUTOMOT.</td>\n",
              "      <td>23,44</td>\n",
              "      <td>23,74</td>\n",
              "      <td>23,4</td>\n",
              "      <td>99.506</td>\n",
              "      <td>2343,09</td>\n",
              "    </tr>\n",
              "  </tbody>\n",
              "</table>\n",
              "</div>"
            ],
            "text/plain": [
              "          Nombre  Final Máximo Mínimo Volumen Efectivo\n",
              "13  CIE AUTOMOT.  23,44  23,74   23,4  99.506  2343,09"
            ]
          },
          "metadata": {
            "tags": []
          },
          "execution_count": 60
        }
      ]
    },
    {
      "cell_type": "code",
      "metadata": {
        "colab": {
          "base_uri": "https://localhost:8080/"
        },
        "id": "PU5YXwQxP0_P",
        "outputId": "5e6ed29f-8448-4487-c80c-1c8171114e1a"
      },
      "source": [
        "df.shape"
      ],
      "execution_count": 62,
      "outputs": [
        {
          "output_type": "execute_result",
          "data": {
            "text/plain": [
              "(35, 6)"
            ]
          },
          "metadata": {
            "tags": []
          },
          "execution_count": 62
        }
      ]
    },
    {
      "cell_type": "code",
      "metadata": {
        "colab": {
          "base_uri": "https://localhost:8080/",
          "height": 158
        },
        "id": "oXVtN0YAQW-6",
        "outputId": "72a99e70-56fe-4db4-92b8-fe8affbf2369"
      },
      "source": [
        "df['Volumen_sin_puntos'] = df['Volumen'].apply(replace('.',\"\"))"
      ],
      "execution_count": 68,
      "outputs": [
        {
          "output_type": "error",
          "ename": "NameError",
          "evalue": "ignored",
          "traceback": [
            "\u001b[0;31m---------------------------------------------------------------------------\u001b[0m",
            "\u001b[0;31mNameError\u001b[0m                                 Traceback (most recent call last)",
            "\u001b[0;32m<ipython-input-68-6b4d04e6b470>\u001b[0m in \u001b[0;36m<module>\u001b[0;34m()\u001b[0m\n\u001b[0;32m----> 1\u001b[0;31m \u001b[0mdf\u001b[0m\u001b[0;34m[\u001b[0m\u001b[0;34m'Volumen_sin_puntos'\u001b[0m\u001b[0;34m]\u001b[0m \u001b[0;34m=\u001b[0m \u001b[0mdf\u001b[0m\u001b[0;34m[\u001b[0m\u001b[0;34m'Volumen'\u001b[0m\u001b[0;34m]\u001b[0m\u001b[0;34m.\u001b[0m\u001b[0mapply\u001b[0m\u001b[0;34m(\u001b[0m\u001b[0mreplace\u001b[0m\u001b[0;34m(\u001b[0m\u001b[0;34m'.'\u001b[0m\u001b[0;34m,\u001b[0m\u001b[0;34m\"\"\u001b[0m\u001b[0;34m)\u001b[0m\u001b[0;34m)\u001b[0m\u001b[0;34m\u001b[0m\u001b[0;34m\u001b[0m\u001b[0m\n\u001b[0m",
            "\u001b[0;31mNameError\u001b[0m: name 'replace' is not defined"
          ]
        }
      ]
    }
  ]
}