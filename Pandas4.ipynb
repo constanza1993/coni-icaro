{
  "nbformat": 4,
  "nbformat_minor": 0,
  "metadata": {
    "colab": {
      "name": "Pandas4.ipynb",
      "provenance": [],
      "authorship_tag": "ABX9TyNyoQvorbmnKqRmydcJN3LS",
      "include_colab_link": true
    },
    "kernelspec": {
      "name": "python3",
      "display_name": "Python 3"
    }
  },
  "cells": [
    {
      "cell_type": "markdown",
      "metadata": {
        "id": "view-in-github",
        "colab_type": "text"
      },
      "source": [
        "<a href=\"https://colab.research.google.com/github/constanza1993/coni-icaro/blob/master/Pandas4.ipynb\" target=\"_parent\"><img src=\"https://colab.research.google.com/assets/colab-badge.svg\" alt=\"Open In Colab\"/></a>"
      ]
    },
    {
      "cell_type": "code",
      "metadata": {
        "colab": {
          "base_uri": "https://localhost:8080/",
          "height": 133
        },
        "id": "tvCt9OKzP45q",
        "outputId": "9f84f91a-44ad-4df4-b0ba-f8e184debae4"
      },
      "source": [
        "import pandas as pd\r\n",
        "df=pd.DataFrame({'col': list(range(1,27)),  'col2': list(range(1,27))})\r\n",
        "df.to_parquet('df.parquet.gzip',compression='gzip')\r\n",
        "pd.read_parquet('df.parquet.gzip').head(3)"
      ],
      "execution_count": 1,
      "outputs": [
        {
          "output_type": "execute_result",
          "data": {
            "text/html": [
              "<div>\n",
              "<style scoped>\n",
              "    .dataframe tbody tr th:only-of-type {\n",
              "        vertical-align: middle;\n",
              "    }\n",
              "\n",
              "    .dataframe tbody tr th {\n",
              "        vertical-align: top;\n",
              "    }\n",
              "\n",
              "    .dataframe thead th {\n",
              "        text-align: right;\n",
              "    }\n",
              "</style>\n",
              "<table border=\"1\" class=\"dataframe\">\n",
              "  <thead>\n",
              "    <tr style=\"text-align: right;\">\n",
              "      <th></th>\n",
              "      <th>col</th>\n",
              "      <th>col2</th>\n",
              "    </tr>\n",
              "  </thead>\n",
              "  <tbody>\n",
              "    <tr>\n",
              "      <th>0</th>\n",
              "      <td>1</td>\n",
              "      <td>1</td>\n",
              "    </tr>\n",
              "    <tr>\n",
              "      <th>1</th>\n",
              "      <td>2</td>\n",
              "      <td>2</td>\n",
              "    </tr>\n",
              "    <tr>\n",
              "      <th>2</th>\n",
              "      <td>3</td>\n",
              "      <td>3</td>\n",
              "    </tr>\n",
              "  </tbody>\n",
              "</table>\n",
              "</div>"
            ],
            "text/plain": [
              "   col  col2\n",
              "0    1     1\n",
              "1    2     2\n",
              "2    3     3"
            ]
          },
          "metadata": {
            "tags": []
          },
          "execution_count": 1
        }
      ]
    },
    {
      "cell_type": "code",
      "metadata": {
        "colab": {
          "base_uri": "https://localhost:8080/",
          "height": 133
        },
        "id": "ZRHz9pPAQEpY",
        "outputId": "83909ee8-9b88-45ea-f62a-2b8837ee2287"
      },
      "source": [
        "df.to_parquet('df.parquet.snappy',compression='snappy')\r\n",
        "pd.read_parquet('df.parquet.snappy').head(3)"
      ],
      "execution_count": 9,
      "outputs": [
        {
          "output_type": "execute_result",
          "data": {
            "text/html": [
              "<div>\n",
              "<style scoped>\n",
              "    .dataframe tbody tr th:only-of-type {\n",
              "        vertical-align: middle;\n",
              "    }\n",
              "\n",
              "    .dataframe tbody tr th {\n",
              "        vertical-align: top;\n",
              "    }\n",
              "\n",
              "    .dataframe thead th {\n",
              "        text-align: right;\n",
              "    }\n",
              "</style>\n",
              "<table border=\"1\" class=\"dataframe\">\n",
              "  <thead>\n",
              "    <tr style=\"text-align: right;\">\n",
              "      <th></th>\n",
              "      <th>col</th>\n",
              "      <th>col2</th>\n",
              "    </tr>\n",
              "  </thead>\n",
              "  <tbody>\n",
              "    <tr>\n",
              "      <th>0</th>\n",
              "      <td>1</td>\n",
              "      <td>1</td>\n",
              "    </tr>\n",
              "    <tr>\n",
              "      <th>1</th>\n",
              "      <td>2</td>\n",
              "      <td>2</td>\n",
              "    </tr>\n",
              "    <tr>\n",
              "      <th>2</th>\n",
              "      <td>3</td>\n",
              "      <td>3</td>\n",
              "    </tr>\n",
              "  </tbody>\n",
              "</table>\n",
              "</div>"
            ],
            "text/plain": [
              "   col  col2\n",
              "0    1     1\n",
              "1    2     2\n",
              "2    3     3"
            ]
          },
          "metadata": {
            "tags": []
          },
          "execution_count": 9
        }
      ]
    },
    {
      "cell_type": "code",
      "metadata": {
        "colab": {
          "base_uri": "https://localhost:8080/"
        },
        "id": "60cCgxKjRPug",
        "outputId": "31e9d6e5-d5c7-44a2-8741-682c12867db5"
      },
      "source": [
        "!ls -l"
      ],
      "execution_count": 12,
      "outputs": [
        {
          "output_type": "stream",
          "text": [
            "total 12\n",
            "-rw-r--r-- 1 root root 2466 Mar  2 23:22 df.parquet.gzip\n",
            "-rw-r--r-- 1 root root 2530 Mar  2 23:26 df.parquet.snappy\n",
            "drwxr-xr-x 1 root root 4096 Mar  1 14:35 sample_data\n"
          ],
          "name": "stdout"
        }
      ]
    },
    {
      "cell_type": "code",
      "metadata": {
        "id": "xZjsRN9TWBXc"
      },
      "source": [
        "df.to_parquet('df.parquet.patitioned',compression='snappy', partition_cols=['col'])"
      ],
      "execution_count": 16,
      "outputs": []
    },
    {
      "cell_type": "code",
      "metadata": {
        "colab": {
          "base_uri": "https://localhost:8080/"
        },
        "id": "cVQqWyXFWnPT",
        "outputId": "88ff49ab-76ff-470a-bfe8-8eb1dafda1a3"
      },
      "source": [
        "!ls -l"
      ],
      "execution_count": 18,
      "outputs": [
        {
          "output_type": "stream",
          "text": [
            "total 16\n",
            "-rw-r--r--  1 root root 2466 Mar  2 23:22 df.parquet.gzip\n",
            "drwxr-xr-x 28 root root 4096 Mar  2 23:51 df.parquet.patitioned\n",
            "-rw-r--r--  1 root root 2530 Mar  2 23:26 df.parquet.snappy\n",
            "drwxr-xr-x  1 root root 4096 Mar  1 14:35 sample_data\n"
          ],
          "name": "stdout"
        }
      ]
    },
    {
      "cell_type": "code",
      "metadata": {
        "colab": {
          "base_uri": "https://localhost:8080/"
        },
        "id": "XJ6WjOvVXdgD",
        "outputId": "08e96fe8-5566-436b-dc0d-cf0fb2855da0"
      },
      "source": [
        "!cd df.parquet.patitioned && ls -l"
      ],
      "execution_count": 20,
      "outputs": [
        {
          "output_type": "stream",
          "text": [
            "total 104\n",
            "drwxr-xr-x 2 root root 4096 Mar  2 23:51 'col=1'\n",
            "drwxr-xr-x 2 root root 4096 Mar  2 23:51 'col=10'\n",
            "drwxr-xr-x 2 root root 4096 Mar  2 23:51 'col=11'\n",
            "drwxr-xr-x 2 root root 4096 Mar  2 23:51 'col=12'\n",
            "drwxr-xr-x 2 root root 4096 Mar  2 23:51 'col=13'\n",
            "drwxr-xr-x 2 root root 4096 Mar  2 23:51 'col=14'\n",
            "drwxr-xr-x 2 root root 4096 Mar  2 23:51 'col=15'\n",
            "drwxr-xr-x 2 root root 4096 Mar  2 23:51 'col=16'\n",
            "drwxr-xr-x 2 root root 4096 Mar  2 23:51 'col=17'\n",
            "drwxr-xr-x 2 root root 4096 Mar  2 23:51 'col=18'\n",
            "drwxr-xr-x 2 root root 4096 Mar  2 23:51 'col=19'\n",
            "drwxr-xr-x 2 root root 4096 Mar  2 23:51 'col=2'\n",
            "drwxr-xr-x 2 root root 4096 Mar  2 23:51 'col=20'\n",
            "drwxr-xr-x 2 root root 4096 Mar  2 23:51 'col=21'\n",
            "drwxr-xr-x 2 root root 4096 Mar  2 23:51 'col=22'\n",
            "drwxr-xr-x 2 root root 4096 Mar  2 23:51 'col=23'\n",
            "drwxr-xr-x 2 root root 4096 Mar  2 23:51 'col=24'\n",
            "drwxr-xr-x 2 root root 4096 Mar  2 23:51 'col=25'\n",
            "drwxr-xr-x 2 root root 4096 Mar  2 23:51 'col=26'\n",
            "drwxr-xr-x 2 root root 4096 Mar  2 23:51 'col=3'\n",
            "drwxr-xr-x 2 root root 4096 Mar  2 23:51 'col=4'\n",
            "drwxr-xr-x 2 root root 4096 Mar  2 23:51 'col=5'\n",
            "drwxr-xr-x 2 root root 4096 Mar  2 23:51 'col=6'\n",
            "drwxr-xr-x 2 root root 4096 Mar  2 23:51 'col=7'\n",
            "drwxr-xr-x 2 root root 4096 Mar  2 23:51 'col=8'\n",
            "drwxr-xr-x 2 root root 4096 Mar  2 23:51 'col=9'\n"
          ],
          "name": "stdout"
        }
      ]
    },
    {
      "cell_type": "code",
      "metadata": {
        "colab": {
          "base_uri": "https://localhost:8080/"
        },
        "id": "W9CeW8NhYCc2",
        "outputId": "0cbd85d8-1b59-4d28-f034-d7c5d1d2f22f"
      },
      "source": [
        "!pip install psycopg2"
      ],
      "execution_count": 21,
      "outputs": [
        {
          "output_type": "stream",
          "text": [
            "Requirement already satisfied: psycopg2 in /usr/local/lib/python3.7/dist-packages (2.7.6.1)\n"
          ],
          "name": "stdout"
        }
      ]
    },
    {
      "cell_type": "code",
      "metadata": {
        "colab": {
          "base_uri": "https://localhost:8080/"
        },
        "id": "jIP368Y6YNKv",
        "outputId": "79ae30ae-34f3-4765-f553-e9388fb45c67"
      },
      "source": [
        "import psycopg2\r\n",
        "import pandas as pd\r\n",
        "import requests\r\n",
        "from io import StringIO"
      ],
      "execution_count": 22,
      "outputs": [
        {
          "output_type": "stream",
          "text": [
            "/usr/local/lib/python3.7/dist-packages/psycopg2/__init__.py:144: UserWarning: The psycopg2 wheel package will be renamed from release 2.8; in order to keep installing from binary please use \"pip install psycopg2-binary\" instead. For details see: <http://initd.org/psycopg/docs/install.html#binary-install-from-pypi>.\n",
            "  \"\"\")\n"
          ],
          "name": "stderr"
        }
      ]
    },
    {
      "cell_type": "code",
      "metadata": {
        "id": "ldmnvJqEYYZL"
      },
      "source": [
        "conn = psycopg2.connect(host=\"db-test.cq4syw9xqygb.us-east-1.rds.amazonaws.com\", port=5432, database=\"postgres\", user=\"postgres\", password=\"postgres\")"
      ],
      "execution_count": 23,
      "outputs": []
    },
    {
      "cell_type": "code",
      "metadata": {
        "id": "dqz18cv5Ycq3"
      },
      "source": [
        "cur = conn.cursor()"
      ],
      "execution_count": 24,
      "outputs": []
    },
    {
      "cell_type": "code",
      "metadata": {
        "id": "lyhIKN-bYfg8"
      },
      "source": [
        "cur.execute('Select version()')"
      ],
      "execution_count": 25,
      "outputs": []
    },
    {
      "cell_type": "code",
      "metadata": {
        "colab": {
          "base_uri": "https://localhost:8080/"
        },
        "id": "1n1KwmfqYidE",
        "outputId": "05e076a7-992f-477b-b72b-9e637e70b3fd"
      },
      "source": [
        "db_version = cur.fetchone()\r\n",
        "print(db_version)"
      ],
      "execution_count": 26,
      "outputs": [
        {
          "output_type": "stream",
          "text": [
            "('PostgreSQL 12.5 on x86_64-pc-linux-gnu, compiled by gcc (GCC) 4.8.5 20150623 (Red Hat 4.8.5-11), 64-bit',)\n"
          ],
          "name": "stdout"
        }
      ]
    }
  ]
}